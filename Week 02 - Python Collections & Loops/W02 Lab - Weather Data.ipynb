{
 "cells": [
  {
   "cell_type": "markdown",
   "metadata": {},
   "source": [
    "# 💻 Week 02 Lab – Working with Weather Data\n",
    "\n",
    "**LSE DS105W – Data for Data Science (2024/25)**\n",
    "\n",
    "<div style=\"font-family: system-ui; padding: 20px 30px 20px 20px; background-color: #FFFFFF; border-left: 8px solid #47315E; border-radius: 8px; box-shadow: 0 4px 12px rgba(0, 0, 0, 0.1);max-width:600px\">\n",
    "\n",
    "**Today's Lab Session**\n",
    "- 📅 Friday, 31 January 2025\n",
    "- ⏰ Check your class group time in [Course Info](https://moodle.lse.ac.uk/mod/page/view.php?id=1559985)\n",
    "- 📍 KSW.2.10\n",
    "\n",
    "🥅 **Learning Goals**\n",
    "\n",
    "1. Extract and format structured data from a Python dictionary. \n",
    "2. Use the `requests` package to collect data dynamically from OpenMeteo. \n",
    "3. Reuse your own code by writing functions. \n",
    "4. Extend your understanding of data organisation and Markdown tables.\n",
    "\n",
    "**Prerequisites**  \n",
    "\n",
    "You should be comfortable with the following concepts before starting this lab:\n",
    "\n",
    "- ✅ Navigating a Jupyter Notebook and creating new cells.\n",
    "- ✅ Using `print()` to curate and format textual output.\n",
    "- ✅ Basic Markdown formatting (tables, lists, etc.).\n",
    "- ✅ Working with lists and loops (even if it takes you a while to figure them out).\n",
    "- ✅ Accessing keys in a dictionary. \n",
    "\n",
    "</div>"
   ]
  },
  {
   "cell_type": "markdown",
   "metadata": {},
   "source": [
    "## Part I: Working with a Fixed Dictionary"
   ]
  },
  {
   "cell_type": "code",
   "execution_count": 1,
   "metadata": {},
   "outputs": [],
   "source": [
    "weather_data = {\n",
    "    \"hourly\": {\n",
    "        \"time\": [\"2025-01-28T00:00\", \"2025-01-28T01:00\", \"2025-01-28T02:00\"],\n",
    "        \"rain\": [0.0, 0.1, 0.2],\n",
    "        \"temperature_2m\": [8, 7, 8]\n",
    "    }\n",
    "}"
   ]
  },
  {
   "cell_type": "code",
   "execution_count": null,
   "metadata": {},
   "outputs": [
    {
     "name": "stdout",
     "output_type": "stream",
     "text": [
      "['2025-01-28T00:00', '2025-01-28T01:00', '2025-01-28T02:00']\n",
      "[0.0, 0.1, 0.2]\n",
      "[8, 7, 8]\n",
      "<class 'tuple'>\n",
      "<class 'tuple'>\n",
      "<class 'tuple'>\n"
     ]
    }
   ],
   "source": [
    "time = weather_data[\"hourly\"][\"time\"]\n",
    "rain = weather_data[\"hourly\"][\"rain\"]\n",
    "temperature_2m = weather_data[\"hourly\"][\"temperature_2m\"]\n",
    "print(time)\n",
    "print(rain)\n",
    "print(temperature_2m)\n",
    "\n",
    "for i in zip(weather_data[\"hourly\"]):\n",
    "    print(type(i))\n",
    "length(time)"
   ]
  },
  {
   "cell_type": "code",
   "execution_count": 30,
   "metadata": {},
   "outputs": [
    {
     "name": "stdout",
     "output_type": "stream",
     "text": [
      "| 2025-01-28T00:00 | 0.0 | 8 |\n",
      "| 2025-01-28T01:00 | 0.1 | 7 |\n",
      "| 2025-01-28T02:00 | 0.2 | 8 |\n"
     ]
    }
   ],
   "source": [
    "for i in zip(time,rain,temperature_2m):\n",
    "    print(f\"| {i[0]} | {i[1]} | {i[2]} |\")"
   ]
  },
  {
   "cell_type": "markdown",
   "metadata": {},
   "source": [
    "| Time | Temp (ºC) | Rain (mm)|\n",
    "|-|-|-|\n",
    "| 2025-01-28T00:00 | 0.0 | 8 |\n",
    "| 2025-01-28T01:00 | 0.1 | 7 |\n",
    "| 2025-01-28T02:00 | 0.2 | 8 |"
   ]
  },
  {
   "cell_type": "code",
   "execution_count": 100,
   "metadata": {},
   "outputs": [],
   "source": [
    "import requests\n",
    "url = \"https://api.open-meteo.com/v1/forecast?latitude=51.5085&longitude=-0.1257&hourly=temperature_2m&timezone=Europe%2FLondon\"\n",
    "response = requests.get(url)"
   ]
  },
  {
   "cell_type": "code",
   "execution_count": 101,
   "metadata": {},
   "outputs": [
    {
     "name": "stdout",
     "output_type": "stream",
     "text": [
      "200\n"
     ]
    }
   ],
   "source": [
    "# was the request successful?\n",
    "print(response.status_code) # if 200, successful; if 404, url not found"
   ]
  },
  {
   "cell_type": "code",
   "execution_count": 102,
   "metadata": {},
   "outputs": [
    {
     "name": "stdout",
     "output_type": "stream",
     "text": [
      "{\"latitude\":51.5,\"longitude\":-0.120000124,\"generationtime_ms\":0.034928321838378906,\"utc_offset_seconds\":0,\"timezone\":\"Europe/London\",\"timezone_abbreviation\":\"GMT\",\"elevation\":23.0,\"hourly_units\":{\"time\":\"iso8601\",\"temperature_2m\":\"°C\"},\"hourly\":{\"time\":[\"2025-01-31T00:00\",\"2025-01-31T01:00\",\"2025-01-31T02:00\",\"2025-01-31T03:00\",\"2025-01-31T04:00\",\"2025-01-31T05:00\",\"2025-01-31T06:00\",\"2025-01-31T07:00\",\"2025-01-31T08:00\",\"2025-01-31T09:00\",\"2025-01-31T10:00\",\"2025-01-31T11:00\",\"2025-01-31T12:00\",\"2025-01-31T13:00\",\"2025-01-31T14:00\",\"2025-01-31T15:00\",\"2025-01-31T16:00\",\"2025-01-31T17:00\",\"2025-01-31T18:00\",\"2025-01-31T19:00\",\"2025-01-31T20:00\",\"2025-01-31T21:00\",\"2025-01-31T22:00\",\"2025-01-31T23:00\",\"2025-02-01T00:00\",\"2025-02-01T01:00\",\"2025-02-01T02:00\",\"2025-02-01T03:00\",\"2025-02-01T04:00\",\"2025-02-01T05:00\",\"2025-02-01T06:00\",\"2025-02-01T07:00\",\"2025-02-01T08:00\",\"2025-02-01T09:00\",\"2025-02-01T10:00\",\"2025-02-01T11:00\",\"2025-02-01T12:00\",\"2025-02-01T13:00\",\"2025-02-01T14:00\",\"2025-02-01T15:00\",\"2025-02-01T16:00\",\"2025-02-01T17:00\",\"2025-02-01T18:00\",\"2025-02-01T19:00\",\"2025-02-01T20:00\",\"2025-02-01T21:00\",\"2025-02-01T22:00\",\"2025-02-01T23:00\",\"2025-02-02T00:00\",\"2025-02-02T01:00\",\"2025-02-02T02:00\",\"2025-02-02T03:00\",\"2025-02-02T04:00\",\"2025-02-02T05:00\",\"2025-02-02T06:00\",\"2025-02-02T07:00\",\"2025-02-02T08:00\",\"2025-02-02T09:00\",\"2025-02-02T10:00\",\"2025-02-02T11:00\",\"2025-02-02T12:00\",\"2025-02-02T13:00\",\"2025-02-02T14:00\",\"2025-02-02T15:00\",\"2025-02-02T16:00\",\"2025-02-02T17:00\",\"2025-02-02T18:00\",\"2025-02-02T19:00\",\"2025-02-02T20:00\",\"2025-02-02T21:00\",\"2025-02-02T22:00\",\"2025-02-02T23:00\",\"2025-02-03T00:00\",\"2025-02-03T01:00\",\"2025-02-03T02:00\",\"2025-02-03T03:00\",\"2025-02-03T04:00\",\"2025-02-03T05:00\",\"2025-02-03T06:00\",\"2025-02-03T07:00\",\"2025-02-03T08:00\",\"2025-02-03T09:00\",\"2025-02-03T10:00\",\"2025-02-03T11:00\",\"2025-02-03T12:00\",\"2025-02-03T13:00\",\"2025-02-03T14:00\",\"2025-02-03T15:00\",\"2025-02-03T16:00\",\"2025-02-03T17:00\",\"2025-02-03T18:00\",\"2025-02-03T19:00\",\"2025-02-03T20:00\",\"2025-02-03T21:00\",\"2025-02-03T22:00\",\"2025-02-03T23:00\",\"2025-02-04T00:00\",\"2025-02-04T01:00\",\"2025-02-04T02:00\",\"2025-02-04T03:00\",\"2025-02-04T04:00\",\"2025-02-04T05:00\",\"2025-02-04T06:00\",\"2025-02-04T07:00\",\"2025-02-04T08:00\",\"2025-02-04T09:00\",\"2025-02-04T10:00\",\"2025-02-04T11:00\",\"2025-02-04T12:00\",\"2025-02-04T13:00\",\"2025-02-04T14:00\",\"2025-02-04T15:00\",\"2025-02-04T16:00\",\"2025-02-04T17:00\",\"2025-02-04T18:00\",\"2025-02-04T19:00\",\"2025-02-04T20:00\",\"2025-02-04T21:00\",\"2025-02-04T22:00\",\"2025-02-04T23:00\",\"2025-02-05T00:00\",\"2025-02-05T01:00\",\"2025-02-05T02:00\",\"2025-02-05T03:00\",\"2025-02-05T04:00\",\"2025-02-05T05:00\",\"2025-02-05T06:00\",\"2025-02-05T07:00\",\"2025-02-05T08:00\",\"2025-02-05T09:00\",\"2025-02-05T10:00\",\"2025-02-05T11:00\",\"2025-02-05T12:00\",\"2025-02-05T13:00\",\"2025-02-05T14:00\",\"2025-02-05T15:00\",\"2025-02-05T16:00\",\"2025-02-05T17:00\",\"2025-02-05T18:00\",\"2025-02-05T19:00\",\"2025-02-05T20:00\",\"2025-02-05T21:00\",\"2025-02-05T22:00\",\"2025-02-05T23:00\",\"2025-02-06T00:00\",\"2025-02-06T01:00\",\"2025-02-06T02:00\",\"2025-02-06T03:00\",\"2025-02-06T04:00\",\"2025-02-06T05:00\",\"2025-02-06T06:00\",\"2025-02-06T07:00\",\"2025-02-06T08:00\",\"2025-02-06T09:00\",\"2025-02-06T10:00\",\"2025-02-06T11:00\",\"2025-02-06T12:00\",\"2025-02-06T13:00\",\"2025-02-06T14:00\",\"2025-02-06T15:00\",\"2025-02-06T16:00\",\"2025-02-06T17:00\",\"2025-02-06T18:00\",\"2025-02-06T19:00\",\"2025-02-06T20:00\",\"2025-02-06T21:00\",\"2025-02-06T22:00\",\"2025-02-06T23:00\"],\"temperature_2m\":[2.5,2.6,2.5,3.0,3.5,3.9,4.6,5.1,5.9,5.5,5.9,6.4,6.8,6.8,7.0,7.2,7.2,6.7,6.1,5.8,5.8,5.6,5.3,5.1,4.8,4.2,3.9,3.6,3.6,3.7,3.7,3.8,3.9,4.1,4.6,5.4,6.2,6.6,6.7,6.7,6.3,5.8,5.3,4.7,4.2,4.0,3.5,3.3,3.7,3.8,3.3,2.8,2.4,2.2,1.9,1.6,1.4,1.8,3.2,4.9,6.0,6.4,6.9,7.1,6.5,5.2,3.9,3.1,2.7,2.5,2.6,2.6,2.9,3.2,3.6,4.0,4.6,5.0,5.1,5.1,5.2,5.6,6.6,7.8,9.0,9.9,10.9,10.9,10.0,8.9,8.3,7.9,7.8,7.6,7.2,6.7,6.4,6.2,6.2,6.3,6.5,6.8,7.1,7.1,7.1,7.2,7.7,8.2,8.7,8.8,8.9,8.7,8.3,7.8,7.5,7.6,7.9,8.1,8.3,8.4,8.2,7.7,6.9,6.2,5.4,4.6,4.0,3.5,3.2,3.4,4.6,6.3,7.5,8.4,8.8,8.7,8.0,6.8,5.6,4.8,4.0,3.3,2.9,2.6,2.2,1.6,1.0,0.5,0.4,0.3,0.4,0.2,0.2,0.6,1.9,3.8,5.3,6.2,6.9,7.1,6.6,5.7,4.8,4.0,3.2,2.6,2.2,1.9]}}\n"
     ]
    }
   ],
   "source": [
    "print(response.text)\n",
    "weather_data = response.json()"
   ]
  },
  {
   "cell_type": "code",
   "execution_count": 103,
   "metadata": {},
   "outputs": [
    {
     "name": "stdout",
     "output_type": "stream",
     "text": [
      "time\n",
      "temperature_2m\n"
     ]
    }
   ],
   "source": [
    "for i in weather_data[\"hourly\"]:\n",
    "    print(i)"
   ]
  },
  {
   "cell_type": "code",
   "execution_count": 104,
   "metadata": {},
   "outputs": [],
   "source": [
    "def get_weather_variables(weather_data):\n",
    "    times = weather_data[\"hourly\"][\"time\"]\n",
    "    temps = weather_data[\"hourly\"][\"temperature_2m\"]\n",
    "    return times, temps\n",
    "hourly_weather = get_weather_variables(weather_data)"
   ]
  },
  {
   "cell_type": "code",
   "execution_count": 108,
   "metadata": {},
   "outputs": [],
   "source": [
    "url = \"https://api.open-meteo.com/v1/forecast?latitude=51.5085&longitude=-0.1257&hourly=temperature_2m&hourly=rain&timezone=Europe%2FLondon\"\n",
    "response = requests.get(url)\n",
    "weather_data = response.json()"
   ]
  },
  {
   "cell_type": "code",
   "execution_count": 131,
   "metadata": {},
   "outputs": [
    {
     "data": {
      "text/plain": [
       "'| Time | Temp (ºC) | Rain (mm)|\\n|-|-|-|\\n| 2025-01-31T00:00 | 2.5 | 0.0 |\\n| 2025-01-31T01:00 | 2.6 | 0.0 |'"
      ]
     },
     "execution_count": 131,
     "metadata": {},
     "output_type": "execute_result"
    }
   ],
   "source": [
    "def print_weather_table(weather_data):\n",
    "    times = weather_data[\"hourly\"][\"time\"]\n",
    "    temps = weather_data[\"hourly\"][\"temperature_2m\"]\n",
    "    rain = weather_data[\"hourly\"][\"rain\"]\n",
    "    rows = []\n",
    "    for i in zip(times,temps,rain):\n",
    "        rows.append(f\"| {i[0]} | {i[1]} | {i[2]} |\")\n",
    "    return f\"| Time | Temp (ºC) | Rain (mm)|\\n|-|-|-|\\n{rows[0]}\\n{rows[1]}\"\n",
    "print_weather_table(weather_data)"
   ]
  },
  {
   "cell_type": "markdown",
   "metadata": {},
   "source": [
    "| Time | Temp (ºC) | Rain (mm)|\n",
    "|-|-|-|\n",
    "| 2025-01-31T00:00 | 0.0 | 2.5 |"
   ]
  },
  {
   "cell_type": "markdown",
   "metadata": {},
   "source": [
    "| Time | Temp (ºC) | Rain (mm)|\\n|-|-|-|\\n| 2025-01-31T00:00 | 2.5 | 0.0 |\\n| 2025-01-31T01:00 | 2.6 | 0.0 |"
   ]
  }
 ],
 "metadata": {
  "kernelspec": {
   "display_name": "base",
   "language": "python",
   "name": "python3"
  },
  "language_info": {
   "codemirror_mode": {
    "name": "ipython",
    "version": 3
   },
   "file_extension": ".py",
   "mimetype": "text/x-python",
   "name": "python",
   "nbconvert_exporter": "python",
   "pygments_lexer": "ipython3",
   "version": "3.12.7"
  }
 },
 "nbformat": 4,
 "nbformat_minor": 2
}
